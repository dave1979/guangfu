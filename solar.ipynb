{
 "cells": [
  {
   "cell_type": "markdown",
   "metadata": {},
   "source": [
    "# 国能日新光伏功率预测大赛\n",
    "      通过学习一段时间内的环境数据和对应的光伏发电功率，训练模型，通过给定某时间点预测的环境数据，预测该时间点的光伏发电功率。\n",
    "      \n",
    "      电站1，2，3，4的装机功率的值分别为10，10，40，50。实际评分时，只考虑当天实际功率的值大于等于装机功率3%的样本，即0.3，0.3,1.2,1.5以上功率的样本。"
   ]
  },
  {
   "cell_type": "markdown",
   "metadata": {},
   "source": [
    "# 数据概览\n",
    "训练集数据提供了4个电场的脱敏后的环境数据和电场实际辐照度和电场发电功率。测试集数据提供了4个电场的脱敏后的环境数据，需要利用这些数据预测每个时间点的光伏发电功率。\n",
    "\n",
    "1.实际功率中的负值是因为机组在发电不足时自身会消耗电能。\n",
    "\n",
    "2.实发幅照度中的负值视为噪声数据。"
   ]
  },
  {
   "cell_type": "code",
   "execution_count": 1,
   "metadata": {
    "ExecuteTime": {
     "end_time": "2018-10-27T15:26:28.360706Z",
     "start_time": "2018-10-27T15:26:26.944642Z"
    }
   },
   "outputs": [],
   "source": [
    "import numpy as np\n",
    "import pandas as pd\n",
    "import matplotlib.pyplot as plt\n",
    "import matplotlib as mpl\n",
    "mpl.rcParams[\"axes.unicode_minus\"]=False"
   ]
  },
  {
   "cell_type": "markdown",
   "metadata": {},
   "source": [
    "## 数据分布情况 "
   ]
  },
  {
   "cell_type": "markdown",
   "metadata": {},
   "source": [
    "###  训练集"
   ]
  },
  {
   "cell_type": "markdown",
   "metadata": {},
   "source": [
    "每个风场有66859条记录。无缺失值。"
   ]
  },
  {
   "cell_type": "code",
   "execution_count": 2,
   "metadata": {
    "ExecuteTime": {
     "end_time": "2018-10-27T15:26:31.366710Z",
     "start_time": "2018-10-27T15:26:30.506709Z"
    },
    "scrolled": true
   },
   "outputs": [
    {
     "name": "stdout",
     "output_type": "stream",
     "text": [
      "<class 'pandas.core.frame.DataFrame'>\n",
      "DatetimeIndex: 66861 entries, 2016-04-01 00:00:00 to 2018-04-30 23:44:59.985000\n",
      "Data columns (total 9 columns):\n",
      "时间       66861 non-null datetime64[ns]\n",
      "辐照度      66861 non-null float64\n",
      "风速       66861 non-null float64\n",
      "风向       66861 non-null int64\n",
      "温度       66861 non-null float64\n",
      "压强       66861 non-null float64\n",
      "湿度       66861 non-null float64\n",
      "实发辐照度    66861 non-null float64\n",
      "实际功率     66861 non-null float64\n",
      "dtypes: datetime64[ns](1), float64(7), int64(1)\n",
      "memory usage: 5.1 MB\n"
     ]
    }
   ],
   "source": [
    "train1 = pd.read_csv('data/train_1.csv')\n",
    "train1.时间 = pd.to_datetime(train1.时间)\n",
    "train1.set_index('时间',inplace=True,drop=False) # 将时间作为index，方便查询\n",
    "train1.info()"
   ]
  },
  {
   "cell_type": "code",
   "execution_count": 137,
   "metadata": {
    "ExecuteTime": {
     "end_time": "2018-10-26T01:15:35.848985Z",
     "start_time": "2018-10-26T01:15:35.831514Z"
    }
   },
   "outputs": [
    {
     "data": {
      "text/html": [
       "<div>\n",
       "<style scoped>\n",
       "    .dataframe tbody tr th:only-of-type {\n",
       "        vertical-align: middle;\n",
       "    }\n",
       "\n",
       "    .dataframe tbody tr th {\n",
       "        vertical-align: top;\n",
       "    }\n",
       "\n",
       "    .dataframe thead th {\n",
       "        text-align: right;\n",
       "    }\n",
       "</style>\n",
       "<table border=\"1\" class=\"dataframe\">\n",
       "  <thead>\n",
       "    <tr style=\"text-align: right;\">\n",
       "      <th></th>\n",
       "      <th></th>\n",
       "      <th>时间</th>\n",
       "      <th>辐照度</th>\n",
       "      <th>风速</th>\n",
       "      <th>风向</th>\n",
       "      <th>温度</th>\n",
       "      <th>压强</th>\n",
       "      <th>湿度</th>\n",
       "      <th>实发辐照度</th>\n",
       "      <th>实际功率</th>\n",
       "    </tr>\n",
       "    <tr>\n",
       "      <th>时间</th>\n",
       "      <th>id</th>\n",
       "      <th></th>\n",
       "      <th></th>\n",
       "      <th></th>\n",
       "      <th></th>\n",
       "      <th></th>\n",
       "      <th></th>\n",
       "      <th></th>\n",
       "      <th></th>\n",
       "      <th></th>\n",
       "    </tr>\n",
       "  </thead>\n",
       "  <tbody>\n",
       "    <tr>\n",
       "      <th>2016-09-03 02:14:59.997</th>\n",
       "      <th>14889</th>\n",
       "      <td>2016-09-03 02:14:59.997</td>\n",
       "      <td>-1.000000</td>\n",
       "      <td>-0.564767</td>\n",
       "      <td>90</td>\n",
       "      <td>0.208081</td>\n",
       "      <td>0.030303</td>\n",
       "      <td>0.591398</td>\n",
       "      <td>0.0000</td>\n",
       "      <td>-0.004000</td>\n",
       "    </tr>\n",
       "    <tr>\n",
       "      <th>2016-12-14 05:14:59.995</th>\n",
       "      <th>24693</th>\n",
       "      <td>2016-12-14 05:14:59.995</td>\n",
       "      <td>-1.000000</td>\n",
       "      <td>-0.678756</td>\n",
       "      <td>92</td>\n",
       "      <td>-0.490909</td>\n",
       "      <td>0.454545</td>\n",
       "      <td>0.096774</td>\n",
       "      <td>0.0000</td>\n",
       "      <td>-0.020667</td>\n",
       "    </tr>\n",
       "    <tr>\n",
       "      <th>2017-02-25 18:44:59.993</th>\n",
       "      <th>30933</th>\n",
       "      <td>2017-02-25 18:44:59.993</td>\n",
       "      <td>-0.864279</td>\n",
       "      <td>0.523316</td>\n",
       "      <td>289</td>\n",
       "      <td>-0.280808</td>\n",
       "      <td>0.090909</td>\n",
       "      <td>-0.763441</td>\n",
       "      <td>45.8667</td>\n",
       "      <td>0.221667</td>\n",
       "    </tr>\n",
       "    <tr>\n",
       "      <th>2016-08-23 03:44:59.997</th>\n",
       "      <th>13839</th>\n",
       "      <td>2016-08-23 03:44:59.997</td>\n",
       "      <td>-1.000000</td>\n",
       "      <td>-0.689119</td>\n",
       "      <td>73</td>\n",
       "      <td>0.434343</td>\n",
       "      <td>0.090909</td>\n",
       "      <td>0.698925</td>\n",
       "      <td>0.0000</td>\n",
       "      <td>-0.027000</td>\n",
       "    </tr>\n",
       "    <tr>\n",
       "      <th>2016-08-26 11:44:59.997</th>\n",
       "      <th>14159</th>\n",
       "      <td>2016-08-26 11:44:59.997</td>\n",
       "      <td>0.044298</td>\n",
       "      <td>-0.782383</td>\n",
       "      <td>113</td>\n",
       "      <td>0.393939</td>\n",
       "      <td>0.454545</td>\n",
       "      <td>0.354839</td>\n",
       "      <td>575.2890</td>\n",
       "      <td>5.992670</td>\n",
       "    </tr>\n",
       "  </tbody>\n",
       "</table>\n",
       "</div>"
      ],
      "text/plain": [
       "                                                   时间       辐照度        风速  \\\n",
       "时间                      id                                                  \n",
       "2016-09-03 02:14:59.997 14889 2016-09-03 02:14:59.997 -1.000000 -0.564767   \n",
       "2016-12-14 05:14:59.995 24693 2016-12-14 05:14:59.995 -1.000000 -0.678756   \n",
       "2017-02-25 18:44:59.993 30933 2017-02-25 18:44:59.993 -0.864279  0.523316   \n",
       "2016-08-23 03:44:59.997 13839 2016-08-23 03:44:59.997 -1.000000 -0.689119   \n",
       "2016-08-26 11:44:59.997 14159 2016-08-26 11:44:59.997  0.044298 -0.782383   \n",
       "\n",
       "                                风向        温度        压强        湿度     实发辐照度  \\\n",
       "时间                      id                                                   \n",
       "2016-09-03 02:14:59.997 14889   90  0.208081  0.030303  0.591398    0.0000   \n",
       "2016-12-14 05:14:59.995 24693   92 -0.490909  0.454545  0.096774    0.0000   \n",
       "2017-02-25 18:44:59.993 30933  289 -0.280808  0.090909 -0.763441   45.8667   \n",
       "2016-08-23 03:44:59.997 13839   73  0.434343  0.090909  0.698925    0.0000   \n",
       "2016-08-26 11:44:59.997 14159  113  0.393939  0.454545  0.354839  575.2890   \n",
       "\n",
       "                                   实际功率  \n",
       "时间                      id               \n",
       "2016-09-03 02:14:59.997 14889 -0.004000  \n",
       "2016-12-14 05:14:59.995 24693 -0.020667  \n",
       "2017-02-25 18:44:59.993 30933  0.221667  \n",
       "2016-08-23 03:44:59.997 13839 -0.027000  \n",
       "2016-08-26 11:44:59.997 14159  5.992670  "
      ]
     },
     "execution_count": 137,
     "metadata": {},
     "output_type": "execute_result"
    }
   ],
   "source": [
    "train1.sample(5)"
   ]
  },
  {
   "cell_type": "markdown",
   "metadata": {},
   "source": [
    "如下表，总体看最大值都在一定范围内（怀疑数据做了最大值截取），不用做利群点的检测。"
   ]
  },
  {
   "cell_type": "code",
   "execution_count": 95,
   "metadata": {
    "ExecuteTime": {
     "end_time": "2018-10-26T00:38:28.486234Z",
     "start_time": "2018-10-26T00:38:28.422140Z"
    }
   },
   "outputs": [
    {
     "data": {
      "text/html": [
       "<div>\n",
       "<style scoped>\n",
       "    .dataframe tbody tr th:only-of-type {\n",
       "        vertical-align: middle;\n",
       "    }\n",
       "\n",
       "    .dataframe tbody tr th {\n",
       "        vertical-align: top;\n",
       "    }\n",
       "\n",
       "    .dataframe thead th {\n",
       "        text-align: right;\n",
       "    }\n",
       "</style>\n",
       "<table border=\"1\" class=\"dataframe\">\n",
       "  <thead>\n",
       "    <tr style=\"text-align: right;\">\n",
       "      <th></th>\n",
       "      <th>辐照度</th>\n",
       "      <th>风速</th>\n",
       "      <th>风向</th>\n",
       "      <th>温度</th>\n",
       "      <th>压强</th>\n",
       "      <th>湿度</th>\n",
       "      <th>实发辐照度</th>\n",
       "      <th>实际功率</th>\n",
       "    </tr>\n",
       "  </thead>\n",
       "  <tbody>\n",
       "    <tr>\n",
       "      <th>count</th>\n",
       "      <td>66859.000000</td>\n",
       "      <td>66859.000000</td>\n",
       "      <td>66859.000000</td>\n",
       "      <td>66859.000000</td>\n",
       "      <td>66859.000000</td>\n",
       "      <td>66859.000000</td>\n",
       "      <td>66859.000000</td>\n",
       "      <td>66859.000000</td>\n",
       "    </tr>\n",
       "    <tr>\n",
       "      <th>mean</th>\n",
       "      <td>-0.586860</td>\n",
       "      <td>-0.635163</td>\n",
       "      <td>162.564591</td>\n",
       "      <td>0.004482</td>\n",
       "      <td>0.117551</td>\n",
       "      <td>-0.094385</td>\n",
       "      <td>236.338269</td>\n",
       "      <td>2.105577</td>\n",
       "    </tr>\n",
       "    <tr>\n",
       "      <th>std</th>\n",
       "      <td>0.549501</td>\n",
       "      <td>0.286650</td>\n",
       "      <td>95.545095</td>\n",
       "      <td>0.380649</td>\n",
       "      <td>0.281298</td>\n",
       "      <td>0.457985</td>\n",
       "      <td>342.080864</td>\n",
       "      <td>2.989082</td>\n",
       "    </tr>\n",
       "    <tr>\n",
       "      <th>min</th>\n",
       "      <td>-1.000000</td>\n",
       "      <td>-1.000000</td>\n",
       "      <td>0.000000</td>\n",
       "      <td>-1.000000</td>\n",
       "      <td>-1.000000</td>\n",
       "      <td>-1.000000</td>\n",
       "      <td>-0.020000</td>\n",
       "      <td>-0.073667</td>\n",
       "    </tr>\n",
       "    <tr>\n",
       "      <th>25%</th>\n",
       "      <td>-1.000000</td>\n",
       "      <td>-0.844560</td>\n",
       "      <td>91.000000</td>\n",
       "      <td>-0.309091</td>\n",
       "      <td>-0.090909</td>\n",
       "      <td>-0.462366</td>\n",
       "      <td>0.000000</td>\n",
       "      <td>-0.022000</td>\n",
       "    </tr>\n",
       "    <tr>\n",
       "      <th>50%</th>\n",
       "      <td>-0.958530</td>\n",
       "      <td>-0.709845</td>\n",
       "      <td>115.000000</td>\n",
       "      <td>0.014141</td>\n",
       "      <td>0.090909</td>\n",
       "      <td>-0.139785</td>\n",
       "      <td>2.844670</td>\n",
       "      <td>0.000000</td>\n",
       "    </tr>\n",
       "    <tr>\n",
       "      <th>75%</th>\n",
       "      <td>-0.200754</td>\n",
       "      <td>-0.502591</td>\n",
       "      <td>270.000000</td>\n",
       "      <td>0.305051</td>\n",
       "      <td>0.333333</td>\n",
       "      <td>0.268817</td>\n",
       "      <td>424.249000</td>\n",
       "      <td>4.149335</td>\n",
       "    </tr>\n",
       "    <tr>\n",
       "      <th>max</th>\n",
       "      <td>1.000000</td>\n",
       "      <td>1.000000</td>\n",
       "      <td>359.000000</td>\n",
       "      <td>1.000000</td>\n",
       "      <td>1.000000</td>\n",
       "      <td>1.000000</td>\n",
       "      <td>1303.110000</td>\n",
       "      <td>10.485300</td>\n",
       "    </tr>\n",
       "  </tbody>\n",
       "</table>\n",
       "</div>"
      ],
      "text/plain": [
       "                辐照度            风速            风向            温度            压强  \\\n",
       "count  66859.000000  66859.000000  66859.000000  66859.000000  66859.000000   \n",
       "mean      -0.586860     -0.635163    162.564591      0.004482      0.117551   \n",
       "std        0.549501      0.286650     95.545095      0.380649      0.281298   \n",
       "min       -1.000000     -1.000000      0.000000     -1.000000     -1.000000   \n",
       "25%       -1.000000     -0.844560     91.000000     -0.309091     -0.090909   \n",
       "50%       -0.958530     -0.709845    115.000000      0.014141      0.090909   \n",
       "75%       -0.200754     -0.502591    270.000000      0.305051      0.333333   \n",
       "max        1.000000      1.000000    359.000000      1.000000      1.000000   \n",
       "\n",
       "                 湿度         实发辐照度          实际功率  \n",
       "count  66859.000000  66859.000000  66859.000000  \n",
       "mean      -0.094385    236.338269      2.105577  \n",
       "std        0.457985    342.080864      2.989082  \n",
       "min       -1.000000     -0.020000     -0.073667  \n",
       "25%       -0.462366      0.000000     -0.022000  \n",
       "50%       -0.139785      2.844670      0.000000  \n",
       "75%        0.268817    424.249000      4.149335  \n",
       "max        1.000000   1303.110000     10.485300  "
      ]
     },
     "execution_count": 95,
     "metadata": {},
     "output_type": "execute_result"
    }
   ],
   "source": [
    "train1.describe()"
   ]
  },
  {
   "cell_type": "code",
   "execution_count": 16,
   "metadata": {
    "ExecuteTime": {
     "end_time": "2018-10-24T07:05:33.369585Z",
     "start_time": "2018-10-24T07:05:32.993311Z"
    },
    "scrolled": true
   },
   "outputs": [
    {
     "data": {
      "text/plain": [
       "Text(0.5,1,'温度')"
      ]
     },
     "execution_count": 16,
     "metadata": {},
     "output_type": "execute_result"
    },
    {
     "data": {
      "image/png": "[encoded data removed]",
      "text/plain": [
       "<Figure size 1440x432 with 4 Axes>"
      ]
     },
     "metadata": {
      "needs_background": "light"
     },
     "output_type": "display_data"
    }
   ],
   "source": [
    "zhfont = mpl.font_manager.FontProperties(fname='/usr/share/fonts/opentype/noto/NotoSansCJK-Bold.ttc')\n",
    "plt.figure(figsize=(20,6))\n",
    "plt.subplot(1,4,1)\n",
    "train1['辐照度'].hist()\n",
    "plt.title(u'辐照度',fontproperties=zhfont)\n",
    "plt.subplot(1,4,2)\n",
    "train1['风速'].hist()\n",
    "plt.title(u'风速',fontproperties=zhfont)\n",
    "plt.subplot(1,4,3)\n",
    "train1['风向'].hist()\n",
    "plt.title(u'风向',fontproperties=zhfont)\n",
    "plt.subplot(1,4,4)\n",
    "train1['温度'].hist()\n",
    "plt.title(u'温度',fontproperties=zhfont)"
   ]
  },
  {
   "cell_type": "code",
   "execution_count": 17,
   "metadata": {
    "ExecuteTime": {
     "end_time": "2018-10-24T07:05:35.068213Z",
     "start_time": "2018-10-24T07:05:34.646322Z"
    },
    "scrolled": true
   },
   "outputs": [
    {
     "data": {
      "text/plain": [
       "Text(0.5,1,'实际功率')"
      ]
     },
     "execution_count": 17,
     "metadata": {},
     "output_type": "execute_result"
    },
    {
     "data": {
      "image/png": "[encoded data removed]",
      "text/plain": [
       "<Figure size 1440x432 with 4 Axes>"
      ]
     },
     "metadata": {
      "needs_background": "light"
     },
     "output_type": "display_data"
    }
   ],
   "source": [
    "plt.figure(figsize=(20,6))\n",
    "plt.subplot(1,4,1)\n",
    "train1['压强'].hist()\n",
    "plt.title(u'压强',fontproperties=zhfont)\n",
    "plt.subplot(1,4,2)\n",
    "train1['湿度'].hist()\n",
    "plt.title(u'湿度',fontproperties=zhfont)\n",
    "plt.subplot(1,4,3)\n",
    "train1['实发辐照度'].hist()\n",
    "plt.title(u'实发辐照度',fontproperties=zhfont)\n",
    "plt.subplot(1,4,4)\n",
    "train1['实际功率'].hist()\n",
    "plt.title(u'实际功率',fontproperties=zhfont)"
   ]
  },
  {
   "cell_type": "markdown",
   "metadata": {},
   "source": [
    "从实际数据看，辐照度和最后的“实发辐照度”和“实际功率”分布类似。实发辐照度和实际功率的值是几乎一致的。"
   ]
  },
  {
   "cell_type": "markdown",
   "metadata": {},
   "source": [
    "###  测试集合"
   ]
  },
  {
   "cell_type": "code",
   "execution_count": 6,
   "metadata": {},
   "outputs": [
    {
     "name": "stdout",
     "output_type": "stream",
     "text": [
      "<class 'pandas.core.frame.DataFrame'>\n",
      "DatetimeIndex: 11808 entries, 2018-04-30 23:59:59.985000 to 2018-08-31 23:44:59.982000\n",
      "Data columns (total 8 columns):\n",
      "id     11808 non-null int64\n",
      "时间     11808 non-null datetime64[ns]\n",
      "辐照度    11808 non-null float64\n",
      "风速     11808 non-null float64\n",
      "风向     11808 non-null int64\n",
      "温度     11808 non-null float64\n",
      "压强     11808 non-null float64\n",
      "湿度     11808 non-null float64\n",
      "dtypes: datetime64[ns](1), float64(5), int64(2)\n",
      "memory usage: 830.2 KB\n"
     ]
    }
   ],
   "source": [
    "test1 = pd.read_csv('data/test_1.csv')\n",
    "test1.时间 = pd.to_datetime(test1.时间)\n",
    "test1.set_index(['时间'],inplace=True,drop=False)\n",
    "test1.info()"
   ]
  },
  {
   "cell_type": "code",
   "execution_count": 7,
   "metadata": {},
   "outputs": [
    {
     "data": {
      "text/html": [
       "<div>\n",
       "<style scoped>\n",
       "    .dataframe tbody tr th:only-of-type {\n",
       "        vertical-align: middle;\n",
       "    }\n",
       "\n",
       "    .dataframe tbody tr th {\n",
       "        vertical-align: top;\n",
       "    }\n",
       "\n",
       "    .dataframe thead th {\n",
       "        text-align: right;\n",
       "    }\n",
       "</style>\n",
       "<table border=\"1\" class=\"dataframe\">\n",
       "  <thead>\n",
       "    <tr style=\"text-align: right;\">\n",
       "      <th></th>\n",
       "      <th>id</th>\n",
       "      <th>辐照度</th>\n",
       "      <th>风速</th>\n",
       "      <th>风向</th>\n",
       "      <th>温度</th>\n",
       "      <th>压强</th>\n",
       "      <th>湿度</th>\n",
       "    </tr>\n",
       "  </thead>\n",
       "  <tbody>\n",
       "    <tr>\n",
       "      <th>count</th>\n",
       "      <td>11808.000000</td>\n",
       "      <td>11808.000000</td>\n",
       "      <td>11808.000000</td>\n",
       "      <td>11808.000000</td>\n",
       "      <td>11808.000000</td>\n",
       "      <td>11808.000000</td>\n",
       "      <td>11808.000000</td>\n",
       "    </tr>\n",
       "    <tr>\n",
       "      <th>mean</th>\n",
       "      <td>5904.500000</td>\n",
       "      <td>-0.484953</td>\n",
       "      <td>-0.562924</td>\n",
       "      <td>124.727388</td>\n",
       "      <td>0.066497</td>\n",
       "      <td>-0.074385</td>\n",
       "      <td>0.189452</td>\n",
       "    </tr>\n",
       "    <tr>\n",
       "      <th>std</th>\n",
       "      <td>3408.820324</td>\n",
       "      <td>0.616295</td>\n",
       "      <td>0.254866</td>\n",
       "      <td>76.842524</td>\n",
       "      <td>0.349502</td>\n",
       "      <td>0.326285</td>\n",
       "      <td>0.434701</td>\n",
       "    </tr>\n",
       "    <tr>\n",
       "      <th>min</th>\n",
       "      <td>1.000000</td>\n",
       "      <td>-1.000000</td>\n",
       "      <td>-1.000000</td>\n",
       "      <td>0.000000</td>\n",
       "      <td>-1.000000</td>\n",
       "      <td>-1.000000</td>\n",
       "      <td>-1.000000</td>\n",
       "    </tr>\n",
       "    <tr>\n",
       "      <th>25%</th>\n",
       "      <td>2952.750000</td>\n",
       "      <td>-1.000000</td>\n",
       "      <td>-0.748503</td>\n",
       "      <td>89.000000</td>\n",
       "      <td>-0.123675</td>\n",
       "      <td>-0.333333</td>\n",
       "      <td>-0.139535</td>\n",
       "    </tr>\n",
       "    <tr>\n",
       "      <th>50%</th>\n",
       "      <td>5904.500000</td>\n",
       "      <td>-0.819767</td>\n",
       "      <td>-0.592814</td>\n",
       "      <td>101.000000</td>\n",
       "      <td>0.074205</td>\n",
       "      <td>-0.083333</td>\n",
       "      <td>0.232558</td>\n",
       "    </tr>\n",
       "    <tr>\n",
       "      <th>75%</th>\n",
       "      <td>8856.250000</td>\n",
       "      <td>0.005814</td>\n",
       "      <td>-0.413174</td>\n",
       "      <td>118.000000</td>\n",
       "      <td>0.314488</td>\n",
       "      <td>0.083333</td>\n",
       "      <td>0.534884</td>\n",
       "    </tr>\n",
       "    <tr>\n",
       "      <th>max</th>\n",
       "      <td>11808.000000</td>\n",
       "      <td>1.000000</td>\n",
       "      <td>1.000000</td>\n",
       "      <td>359.000000</td>\n",
       "      <td>1.000000</td>\n",
       "      <td>1.000000</td>\n",
       "      <td>1.000000</td>\n",
       "    </tr>\n",
       "  </tbody>\n",
       "</table>\n",
       "</div>"
      ],
      "text/plain": [
       "                 id           辐照度            风速            风向            温度  \\\n",
       "count  11808.000000  11808.000000  11808.000000  11808.000000  11808.000000   \n",
       "mean    5904.500000     -0.484953     -0.562924    124.727388      0.066497   \n",
       "std     3408.820324      0.616295      0.254866     76.842524      0.349502   \n",
       "min        1.000000     -1.000000     -1.000000      0.000000     -1.000000   \n",
       "25%     2952.750000     -1.000000     -0.748503     89.000000     -0.123675   \n",
       "50%     5904.500000     -0.819767     -0.592814    101.000000      0.074205   \n",
       "75%     8856.250000      0.005814     -0.413174    118.000000      0.314488   \n",
       "max    11808.000000      1.000000      1.000000    359.000000      1.000000   \n",
       "\n",
       "                 压强            湿度  \n",
       "count  11808.000000  11808.000000  \n",
       "mean      -0.074385      0.189452  \n",
       "std        0.326285      0.434701  \n",
       "min       -1.000000     -1.000000  \n",
       "25%       -0.333333     -0.139535  \n",
       "50%       -0.083333      0.232558  \n",
       "75%        0.083333      0.534884  \n",
       "max        1.000000      1.000000  "
      ]
     },
     "execution_count": 7,
     "metadata": {},
     "output_type": "execute_result"
    }
   ],
   "source": [
    "test1.describe()"
   ]
  },
  {
   "cell_type": "markdown",
   "metadata": {},
   "source": [
    "## 数据相关性分析"
   ]
  },
  {
   "cell_type": "code",
   "execution_count": 167,
   "metadata": {
    "ExecuteTime": {
     "end_time": "2018-10-26T01:58:01.217116Z",
     "start_time": "2018-10-26T01:58:01.185607Z"
    }
   },
   "outputs": [
    {
     "data": {
      "text/html": [
       "<div>\n",
       "<style scoped>\n",
       "    .dataframe tbody tr th:only-of-type {\n",
       "        vertical-align: middle;\n",
       "    }\n",
       "\n",
       "    .dataframe tbody tr th {\n",
       "        vertical-align: top;\n",
       "    }\n",
       "\n",
       "    .dataframe thead th {\n",
       "        text-align: right;\n",
       "    }\n",
       "</style>\n",
       "<table border=\"1\" class=\"dataframe\">\n",
       "  <thead>\n",
       "    <tr style=\"text-align: right;\">\n",
       "      <th></th>\n",
       "      <th>辐照度</th>\n",
       "      <th>风速</th>\n",
       "      <th>风向</th>\n",
       "      <th>温度</th>\n",
       "      <th>压强</th>\n",
       "      <th>湿度</th>\n",
       "      <th>实发辐照度</th>\n",
       "      <th>实际功率</th>\n",
       "    </tr>\n",
       "  </thead>\n",
       "  <tbody>\n",
       "    <tr>\n",
       "      <th>辐照度</th>\n",
       "      <td>1.000000</td>\n",
       "      <td>-0.142853</td>\n",
       "      <td>-0.025964</td>\n",
       "      <td>0.397014</td>\n",
       "      <td>-0.112976</td>\n",
       "      <td>-0.410787</td>\n",
       "      <td>0.735769</td>\n",
       "      <td>0.740987</td>\n",
       "    </tr>\n",
       "    <tr>\n",
       "      <th>风速</th>\n",
       "      <td>-0.142853</td>\n",
       "      <td>1.000000</td>\n",
       "      <td>0.225245</td>\n",
       "      <td>0.040933</td>\n",
       "      <td>-0.040248</td>\n",
       "      <td>-0.124255</td>\n",
       "      <td>-0.081660</td>\n",
       "      <td>-0.094576</td>\n",
       "    </tr>\n",
       "    <tr>\n",
       "      <th>风向</th>\n",
       "      <td>-0.025964</td>\n",
       "      <td>0.225245</td>\n",
       "      <td>1.000000</td>\n",
       "      <td>-0.338970</td>\n",
       "      <td>0.219645</td>\n",
       "      <td>-0.205834</td>\n",
       "      <td>0.004521</td>\n",
       "      <td>0.019179</td>\n",
       "    </tr>\n",
       "    <tr>\n",
       "      <th>温度</th>\n",
       "      <td>0.397014</td>\n",
       "      <td>0.040933</td>\n",
       "      <td>-0.338970</td>\n",
       "      <td>1.000000</td>\n",
       "      <td>-0.301537</td>\n",
       "      <td>0.136485</td>\n",
       "      <td>0.238329</td>\n",
       "      <td>0.213873</td>\n",
       "    </tr>\n",
       "    <tr>\n",
       "      <th>压强</th>\n",
       "      <td>-0.112976</td>\n",
       "      <td>-0.040248</td>\n",
       "      <td>0.219645</td>\n",
       "      <td>-0.301537</td>\n",
       "      <td>1.000000</td>\n",
       "      <td>0.216154</td>\n",
       "      <td>-0.094898</td>\n",
       "      <td>-0.073916</td>\n",
       "    </tr>\n",
       "    <tr>\n",
       "      <th>湿度</th>\n",
       "      <td>-0.410787</td>\n",
       "      <td>-0.124255</td>\n",
       "      <td>-0.205834</td>\n",
       "      <td>0.136485</td>\n",
       "      <td>0.216154</td>\n",
       "      <td>1.000000</td>\n",
       "      <td>-0.383990</td>\n",
       "      <td>-0.368342</td>\n",
       "    </tr>\n",
       "    <tr>\n",
       "      <th>实发辐照度</th>\n",
       "      <td>0.735769</td>\n",
       "      <td>-0.081660</td>\n",
       "      <td>0.004521</td>\n",
       "      <td>0.238329</td>\n",
       "      <td>-0.094898</td>\n",
       "      <td>-0.383990</td>\n",
       "      <td>1.000000</td>\n",
       "      <td>0.961298</td>\n",
       "    </tr>\n",
       "    <tr>\n",
       "      <th>实际功率</th>\n",
       "      <td>0.740987</td>\n",
       "      <td>-0.094576</td>\n",
       "      <td>0.019179</td>\n",
       "      <td>0.213873</td>\n",
       "      <td>-0.073916</td>\n",
       "      <td>-0.368342</td>\n",
       "      <td>0.961298</td>\n",
       "      <td>1.000000</td>\n",
       "    </tr>\n",
       "  </tbody>\n",
       "</table>\n",
       "</div>"
      ],
      "text/plain": [
       "            辐照度        风速        风向        温度        压强        湿度     实发辐照度  \\\n",
       "辐照度    1.000000 -0.142853 -0.025964  0.397014 -0.112976 -0.410787  0.735769   \n",
       "风速    -0.142853  1.000000  0.225245  0.040933 -0.040248 -0.124255 -0.081660   \n",
       "风向    -0.025964  0.225245  1.000000 -0.338970  0.219645 -0.205834  0.004521   \n",
       "温度     0.397014  0.040933 -0.338970  1.000000 -0.301537  0.136485  0.238329   \n",
       "压强    -0.112976 -0.040248  0.219645 -0.301537  1.000000  0.216154 -0.094898   \n",
       "湿度    -0.410787 -0.124255 -0.205834  0.136485  0.216154  1.000000 -0.383990   \n",
       "实发辐照度  0.735769 -0.081660  0.004521  0.238329 -0.094898 -0.383990  1.000000   \n",
       "实际功率   0.740987 -0.094576  0.019179  0.213873 -0.073916 -0.368342  0.961298   \n",
       "\n",
       "           实际功率  \n",
       "辐照度    0.740987  \n",
       "风速    -0.094576  \n",
       "风向     0.019179  \n",
       "温度     0.213873  \n",
       "压强    -0.073916  \n",
       "湿度    -0.368342  \n",
       "实发辐照度  0.961298  \n",
       "实际功率   1.000000  "
      ]
     },
     "execution_count": 167,
     "metadata": {},
     "output_type": "execute_result"
    }
   ],
   "source": [
    "train1.corr()"
   ]
  },
  {
   "cell_type": "markdown",
   "metadata": {},
   "source": [
    "依据相关系数，实发辐照度和实际功率的相关性0.96，福照度与实际功率的相关系数为0.74."
   ]
  },
  {
   "cell_type": "markdown",
   "metadata": {},
   "source": [
    "## 辐照度为-1的数据 \n",
    "\n",
    "辐照度为-1的数量站到了总数据量的50%(达30000多条)，大多是晚上或清晨的数据。"
   ]
  },
  {
   "cell_type": "code",
   "execution_count": 85,
   "metadata": {
    "ExecuteTime": {
     "end_time": "2018-10-26T00:28:29.226551Z",
     "start_time": "2018-10-26T00:28:29.213031Z"
    }
   },
   "outputs": [
    {
     "data": {
      "text/html": [
       "<div>\n",
       "<style scoped>\n",
       "    .dataframe tbody tr th:only-of-type {\n",
       "        vertical-align: middle;\n",
       "    }\n",
       "\n",
       "    .dataframe tbody tr th {\n",
       "        vertical-align: top;\n",
       "    }\n",
       "\n",
       "    .dataframe thead th {\n",
       "        text-align: right;\n",
       "    }\n",
       "</style>\n",
       "<table border=\"1\" class=\"dataframe\">\n",
       "  <thead>\n",
       "    <tr style=\"text-align: right;\">\n",
       "      <th></th>\n",
       "      <th>时间</th>\n",
       "      <th>实发辐照度</th>\n",
       "      <th>实际功率</th>\n",
       "    </tr>\n",
       "  </thead>\n",
       "  <tbody>\n",
       "    <tr>\n",
       "      <th>3957</th>\n",
       "      <td>2016-05-12 05:14:59.999</td>\n",
       "      <td>0.000</td>\n",
       "      <td>-0.022333</td>\n",
       "    </tr>\n",
       "    <tr>\n",
       "      <th>54443</th>\n",
       "      <td>2017-12-22 15:59:59.987</td>\n",
       "      <td>302.080</td>\n",
       "      <td>2.851670</td>\n",
       "    </tr>\n",
       "    <tr>\n",
       "      <th>28279</th>\n",
       "      <td>2017-01-29 03:14:59.994</td>\n",
       "      <td>0.000</td>\n",
       "      <td>-0.022000</td>\n",
       "    </tr>\n",
       "    <tr>\n",
       "      <th>36317</th>\n",
       "      <td>2017-04-24 04:44:59.992</td>\n",
       "      <td>0.000</td>\n",
       "      <td>-0.022000</td>\n",
       "    </tr>\n",
       "    <tr>\n",
       "      <th>30012</th>\n",
       "      <td>2017-02-16 04:29:59.994</td>\n",
       "      <td>0.000</td>\n",
       "      <td>-0.020667</td>\n",
       "    </tr>\n",
       "    <tr>\n",
       "      <th>3735</th>\n",
       "      <td>2016-05-09 21:44:59.999</td>\n",
       "      <td>0.000</td>\n",
       "      <td>-0.022000</td>\n",
       "    </tr>\n",
       "    <tr>\n",
       "      <th>58105</th>\n",
       "      <td>2018-01-29 19:29:59.987</td>\n",
       "      <td>0.000</td>\n",
       "      <td>-0.021667</td>\n",
       "    </tr>\n",
       "    <tr>\n",
       "      <th>47049</th>\n",
       "      <td>2017-08-14 00:59:59.990</td>\n",
       "      <td>0.000</td>\n",
       "      <td>-0.022000</td>\n",
       "    </tr>\n",
       "    <tr>\n",
       "      <th>53375</th>\n",
       "      <td>2017-12-11 12:59:59.988</td>\n",
       "      <td>948.978</td>\n",
       "      <td>8.690670</td>\n",
       "    </tr>\n",
       "    <tr>\n",
       "      <th>49731</th>\n",
       "      <td>2017-10-26 23:44:59.988</td>\n",
       "      <td>0.000</td>\n",
       "      <td>-0.018000</td>\n",
       "    </tr>\n",
       "  </tbody>\n",
       "</table>\n",
       "</div>"
      ],
      "text/plain": [
       "                           时间    实发辐照度      实际功率\n",
       "3957  2016-05-12 05:14:59.999    0.000 -0.022333\n",
       "54443 2017-12-22 15:59:59.987  302.080  2.851670\n",
       "28279 2017-01-29 03:14:59.994    0.000 -0.022000\n",
       "36317 2017-04-24 04:44:59.992    0.000 -0.022000\n",
       "30012 2017-02-16 04:29:59.994    0.000 -0.020667\n",
       "3735  2016-05-09 21:44:59.999    0.000 -0.022000\n",
       "58105 2018-01-29 19:29:59.987    0.000 -0.021667\n",
       "47049 2017-08-14 00:59:59.990    0.000 -0.022000\n",
       "53375 2017-12-11 12:59:59.988  948.978  8.690670\n",
       "49731 2017-10-26 23:44:59.988    0.000 -0.018000"
      ]
     },
     "execution_count": 85,
     "metadata": {},
     "output_type": "execute_result"
    }
   ],
   "source": [
    "train1.loc[train1['辐照度']==-1,['时间','实发辐照度','实际功率']].sort_values('实际功率',ascending=False).sample(10)"
   ]
  },
  {
   "cell_type": "markdown",
   "metadata": {},
   "source": [
    "但也有很多其他时间的数据，约2000多条。"
   ]
  },
  {
   "cell_type": "code",
   "execution_count": 145,
   "metadata": {
    "ExecuteTime": {
     "end_time": "2018-10-26T01:17:44.336071Z",
     "start_time": "2018-10-26T01:17:44.314502Z"
    }
   },
   "outputs": [
    {
     "data": {
      "text/html": [
       "<div>\n",
       "<style scoped>\n",
       "    .dataframe tbody tr th:only-of-type {\n",
       "        vertical-align: middle;\n",
       "    }\n",
       "\n",
       "    .dataframe tbody tr th {\n",
       "        vertical-align: top;\n",
       "    }\n",
       "\n",
       "    .dataframe thead th {\n",
       "        text-align: right;\n",
       "    }\n",
       "</style>\n",
       "<table border=\"1\" class=\"dataframe\">\n",
       "  <thead>\n",
       "    <tr style=\"text-align: right;\">\n",
       "      <th></th>\n",
       "      <th></th>\n",
       "      <th>时间</th>\n",
       "      <th>辐照度</th>\n",
       "      <th>风速</th>\n",
       "      <th>风向</th>\n",
       "      <th>温度</th>\n",
       "      <th>压强</th>\n",
       "      <th>湿度</th>\n",
       "      <th>实发辐照度</th>\n",
       "      <th>实际功率</th>\n",
       "    </tr>\n",
       "    <tr>\n",
       "      <th>时间</th>\n",
       "      <th>id</th>\n",
       "      <th></th>\n",
       "      <th></th>\n",
       "      <th></th>\n",
       "      <th></th>\n",
       "      <th></th>\n",
       "      <th></th>\n",
       "      <th></th>\n",
       "      <th></th>\n",
       "      <th></th>\n",
       "    </tr>\n",
       "  </thead>\n",
       "  <tbody>\n",
       "    <tr>\n",
       "      <th>2017-12-02 09:59:59.988</th>\n",
       "      <th>52499</th>\n",
       "      <td>2017-12-02 09:59:59.988</td>\n",
       "      <td>-1.0</td>\n",
       "      <td>-0.730570</td>\n",
       "      <td>59</td>\n",
       "      <td>-0.127273</td>\n",
       "      <td>0.212121</td>\n",
       "      <td>-0.333333</td>\n",
       "      <td>548.978</td>\n",
       "      <td>5.99700</td>\n",
       "    </tr>\n",
       "    <tr>\n",
       "      <th>2018-01-07 15:44:59.987</th>\n",
       "      <th>55978</th>\n",
       "      <td>2018-01-07 15:44:59.987</td>\n",
       "      <td>-1.0</td>\n",
       "      <td>-0.564767</td>\n",
       "      <td>112</td>\n",
       "      <td>-0.410101</td>\n",
       "      <td>0.333333</td>\n",
       "      <td>0.505376</td>\n",
       "      <td>310.045</td>\n",
       "      <td>3.20967</td>\n",
       "    </tr>\n",
       "    <tr>\n",
       "      <th>2018-03-21 17:14:59.986</th>\n",
       "      <th>62992</th>\n",
       "      <td>2018-03-21 17:14:59.986</td>\n",
       "      <td>-1.0</td>\n",
       "      <td>-0.906736</td>\n",
       "      <td>27</td>\n",
       "      <td>-0.426263</td>\n",
       "      <td>-0.151515</td>\n",
       "      <td>-0.698925</td>\n",
       "      <td>398.507</td>\n",
       "      <td>3.62833</td>\n",
       "    </tr>\n",
       "    <tr>\n",
       "      <th>2018-03-11 15:44:59.986</th>\n",
       "      <th>62026</th>\n",
       "      <td>2018-03-11 15:44:59.986</td>\n",
       "      <td>-1.0</td>\n",
       "      <td>-0.699482</td>\n",
       "      <td>72</td>\n",
       "      <td>-0.406061</td>\n",
       "      <td>-0.454545</td>\n",
       "      <td>-0.311828</td>\n",
       "      <td>903.182</td>\n",
       "      <td>7.97567</td>\n",
       "    </tr>\n",
       "    <tr>\n",
       "      <th>2018-01-04 16:29:59.987</th>\n",
       "      <th>55693</th>\n",
       "      <td>2018-01-04 16:29:59.987</td>\n",
       "      <td>-1.0</td>\n",
       "      <td>-0.927461</td>\n",
       "      <td>326</td>\n",
       "      <td>-0.474747</td>\n",
       "      <td>0.212121</td>\n",
       "      <td>-0.010753</td>\n",
       "      <td>505.884</td>\n",
       "      <td>4.60733</td>\n",
       "    </tr>\n",
       "    <tr>\n",
       "      <th>2017-12-31 10:14:59.987</th>\n",
       "      <th>55284</th>\n",
       "      <td>2017-12-31 10:14:59.987</td>\n",
       "      <td>-1.0</td>\n",
       "      <td>-0.813472</td>\n",
       "      <td>299</td>\n",
       "      <td>-0.292929</td>\n",
       "      <td>0.272727</td>\n",
       "      <td>0.526882</td>\n",
       "      <td>541.582</td>\n",
       "      <td>5.97367</td>\n",
       "    </tr>\n",
       "    <tr>\n",
       "      <th>2017-12-19 10:59:59.987</th>\n",
       "      <th>54135</th>\n",
       "      <td>2017-12-19 10:59:59.987</td>\n",
       "      <td>-1.0</td>\n",
       "      <td>-0.844560</td>\n",
       "      <td>42</td>\n",
       "      <td>-0.151515</td>\n",
       "      <td>0.818182</td>\n",
       "      <td>0.462366</td>\n",
       "      <td>729.316</td>\n",
       "      <td>6.71000</td>\n",
       "    </tr>\n",
       "    <tr>\n",
       "      <th>2018-04-06 16:44:59.985</th>\n",
       "      <th>64526</th>\n",
       "      <td>2018-04-06 16:44:59.985</td>\n",
       "      <td>-1.0</td>\n",
       "      <td>-0.813472</td>\n",
       "      <td>49</td>\n",
       "      <td>-0.402020</td>\n",
       "      <td>0.030303</td>\n",
       "      <td>-0.698925</td>\n",
       "      <td>731.947</td>\n",
       "      <td>6.67133</td>\n",
       "    </tr>\n",
       "    <tr>\n",
       "      <th>2017-12-27 13:29:59.987</th>\n",
       "      <th>54913</th>\n",
       "      <td>2017-12-27 13:29:59.987</td>\n",
       "      <td>-1.0</td>\n",
       "      <td>-0.461140</td>\n",
       "      <td>251</td>\n",
       "      <td>-0.381818</td>\n",
       "      <td>0.696970</td>\n",
       "      <td>-0.075269</td>\n",
       "      <td>958.294</td>\n",
       "      <td>8.73700</td>\n",
       "    </tr>\n",
       "    <tr>\n",
       "      <th>2018-02-11 16:59:59.986</th>\n",
       "      <th>59343</th>\n",
       "      <td>2018-02-11 16:59:59.986</td>\n",
       "      <td>-1.0</td>\n",
       "      <td>-0.927461</td>\n",
       "      <td>172</td>\n",
       "      <td>-0.600000</td>\n",
       "      <td>0.515152</td>\n",
       "      <td>-0.634409</td>\n",
       "      <td>571.449</td>\n",
       "      <td>5.07767</td>\n",
       "    </tr>\n",
       "  </tbody>\n",
       "</table>\n",
       "</div>"
      ],
      "text/plain": [
       "                                                   时间  辐照度        风速   风向  \\\n",
       "时间                      id                                                  \n",
       "2017-12-02 09:59:59.988 52499 2017-12-02 09:59:59.988 -1.0 -0.730570   59   \n",
       "2018-01-07 15:44:59.987 55978 2018-01-07 15:44:59.987 -1.0 -0.564767  112   \n",
       "2018-03-21 17:14:59.986 62992 2018-03-21 17:14:59.986 -1.0 -0.906736   27   \n",
       "2018-03-11 15:44:59.986 62026 2018-03-11 15:44:59.986 -1.0 -0.699482   72   \n",
       "2018-01-04 16:29:59.987 55693 2018-01-04 16:29:59.987 -1.0 -0.927461  326   \n",
       "2017-12-31 10:14:59.987 55284 2017-12-31 10:14:59.987 -1.0 -0.813472  299   \n",
       "2017-12-19 10:59:59.987 54135 2017-12-19 10:59:59.987 -1.0 -0.844560   42   \n",
       "2018-04-06 16:44:59.985 64526 2018-04-06 16:44:59.985 -1.0 -0.813472   49   \n",
       "2017-12-27 13:29:59.987 54913 2017-12-27 13:29:59.987 -1.0 -0.461140  251   \n",
       "2018-02-11 16:59:59.986 59343 2018-02-11 16:59:59.986 -1.0 -0.927461  172   \n",
       "\n",
       "                                     温度        压强        湿度    实发辐照度     实际功率  \n",
       "时间                      id                                                     \n",
       "2017-12-02 09:59:59.988 52499 -0.127273  0.212121 -0.333333  548.978  5.99700  \n",
       "2018-01-07 15:44:59.987 55978 -0.410101  0.333333  0.505376  310.045  3.20967  \n",
       "2018-03-21 17:14:59.986 62992 -0.426263 -0.151515 -0.698925  398.507  3.62833  \n",
       "2018-03-11 15:44:59.986 62026 -0.406061 -0.454545 -0.311828  903.182  7.97567  \n",
       "2018-01-04 16:29:59.987 55693 -0.474747  0.212121 -0.010753  505.884  4.60733  \n",
       "2017-12-31 10:14:59.987 55284 -0.292929  0.272727  0.526882  541.582  5.97367  \n",
       "2017-12-19 10:59:59.987 54135 -0.151515  0.818182  0.462366  729.316  6.71000  \n",
       "2018-04-06 16:44:59.985 64526 -0.402020  0.030303 -0.698925  731.947  6.67133  \n",
       "2017-12-27 13:29:59.987 54913 -0.381818  0.696970 -0.075269  958.294  8.73700  \n",
       "2018-02-11 16:59:59.986 59343 -0.600000  0.515152 -0.634409  571.449  5.07767  "
      ]
     },
     "execution_count": 145,
     "metadata": {},
     "output_type": "execute_result"
    }
   ],
   "source": [
    "train1[(train1['辐照度']==-1) & (train1['实际功率']>1)].sample(10)"
   ]
  },
  {
   "cell_type": "markdown",
   "metadata": {},
   "source": [
    "下面数据可以看出，辐照度很多白天为-1的数据似乎是不对的。"
   ]
  },
  {
   "cell_type": "code",
   "execution_count": 170,
   "metadata": {
    "ExecuteTime": {
     "end_time": "2018-10-26T01:59:42.513791Z",
     "start_time": "2018-10-26T01:59:42.492508Z"
    },
    "scrolled": false
   },
   "outputs": [
    {
     "data": {
      "text/html": [
       "<div>\n",
       "<style scoped>\n",
       "    .dataframe tbody tr th:only-of-type {\n",
       "        vertical-align: middle;\n",
       "    }\n",
       "\n",
       "    .dataframe tbody tr th {\n",
       "        vertical-align: top;\n",
       "    }\n",
       "\n",
       "    .dataframe thead th {\n",
       "        text-align: right;\n",
       "    }\n",
       "</style>\n",
       "<table border=\"1\" class=\"dataframe\">\n",
       "  <thead>\n",
       "    <tr style=\"text-align: right;\">\n",
       "      <th></th>\n",
       "      <th>时间</th>\n",
       "      <th>辐照度</th>\n",
       "      <th>风速</th>\n",
       "      <th>风向</th>\n",
       "      <th>温度</th>\n",
       "      <th>压强</th>\n",
       "      <th>湿度</th>\n",
       "      <th>实发辐照度</th>\n",
       "      <th>实际功率</th>\n",
       "    </tr>\n",
       "    <tr>\n",
       "      <th>时间</th>\n",
       "      <th></th>\n",
       "      <th></th>\n",
       "      <th></th>\n",
       "      <th></th>\n",
       "      <th></th>\n",
       "      <th></th>\n",
       "      <th></th>\n",
       "      <th></th>\n",
       "      <th></th>\n",
       "    </tr>\n",
       "  </thead>\n",
       "  <tbody>\n",
       "    <tr>\n",
       "      <th>2017-12-27 12:14:59.987</th>\n",
       "      <td>2017-12-27 12:14:59.987</td>\n",
       "      <td>-1.0</td>\n",
       "      <td>-0.388601</td>\n",
       "      <td>249</td>\n",
       "      <td>-0.369697</td>\n",
       "      <td>0.696970</td>\n",
       "      <td>-0.053763</td>\n",
       "      <td>895.858</td>\n",
       "      <td>8.52133</td>\n",
       "    </tr>\n",
       "    <tr>\n",
       "      <th>2017-12-27 12:29:59.987</th>\n",
       "      <td>2017-12-27 12:29:59.987</td>\n",
       "      <td>-1.0</td>\n",
       "      <td>-0.398964</td>\n",
       "      <td>249</td>\n",
       "      <td>-0.369697</td>\n",
       "      <td>0.696970</td>\n",
       "      <td>-0.075269</td>\n",
       "      <td>916.125</td>\n",
       "      <td>8.58300</td>\n",
       "    </tr>\n",
       "    <tr>\n",
       "      <th>2017-12-27 12:44:59.987</th>\n",
       "      <td>2017-12-27 12:44:59.987</td>\n",
       "      <td>-1.0</td>\n",
       "      <td>-0.409326</td>\n",
       "      <td>248</td>\n",
       "      <td>-0.373737</td>\n",
       "      <td>0.696970</td>\n",
       "      <td>-0.075269</td>\n",
       "      <td>944.711</td>\n",
       "      <td>8.82167</td>\n",
       "    </tr>\n",
       "    <tr>\n",
       "      <th>2017-12-27 12:59:59.987</th>\n",
       "      <td>2017-12-27 12:59:59.987</td>\n",
       "      <td>-1.0</td>\n",
       "      <td>-0.419689</td>\n",
       "      <td>249</td>\n",
       "      <td>-0.377778</td>\n",
       "      <td>0.696970</td>\n",
       "      <td>-0.075269</td>\n",
       "      <td>951.893</td>\n",
       "      <td>8.38267</td>\n",
       "    </tr>\n",
       "    <tr>\n",
       "      <th>2017-12-27 13:14:59.987</th>\n",
       "      <td>2017-12-27 13:14:59.987</td>\n",
       "      <td>-1.0</td>\n",
       "      <td>-0.440415</td>\n",
       "      <td>250</td>\n",
       "      <td>-0.377778</td>\n",
       "      <td>0.696970</td>\n",
       "      <td>-0.075269</td>\n",
       "      <td>957.511</td>\n",
       "      <td>8.06900</td>\n",
       "    </tr>\n",
       "    <tr>\n",
       "      <th>2017-12-27 13:29:59.987</th>\n",
       "      <td>2017-12-27 13:29:59.987</td>\n",
       "      <td>-1.0</td>\n",
       "      <td>-0.461140</td>\n",
       "      <td>251</td>\n",
       "      <td>-0.381818</td>\n",
       "      <td>0.696970</td>\n",
       "      <td>-0.075269</td>\n",
       "      <td>958.294</td>\n",
       "      <td>8.73700</td>\n",
       "    </tr>\n",
       "    <tr>\n",
       "      <th>2017-12-27 13:44:59.987</th>\n",
       "      <td>2017-12-27 13:44:59.987</td>\n",
       "      <td>-1.0</td>\n",
       "      <td>-0.481865</td>\n",
       "      <td>253</td>\n",
       "      <td>-0.385859</td>\n",
       "      <td>0.696970</td>\n",
       "      <td>-0.075269</td>\n",
       "      <td>954.311</td>\n",
       "      <td>8.45333</td>\n",
       "    </tr>\n",
       "    <tr>\n",
       "      <th>2017-12-27 13:59:59.987</th>\n",
       "      <td>2017-12-27 13:59:59.987</td>\n",
       "      <td>-1.0</td>\n",
       "      <td>-0.492228</td>\n",
       "      <td>255</td>\n",
       "      <td>-0.385859</td>\n",
       "      <td>0.696970</td>\n",
       "      <td>-0.075269</td>\n",
       "      <td>946.773</td>\n",
       "      <td>7.54867</td>\n",
       "    </tr>\n",
       "    <tr>\n",
       "      <th>2017-12-27 14:14:59.987</th>\n",
       "      <td>2017-12-27 14:14:59.987</td>\n",
       "      <td>-1.0</td>\n",
       "      <td>-0.523316</td>\n",
       "      <td>256</td>\n",
       "      <td>-0.389899</td>\n",
       "      <td>0.696970</td>\n",
       "      <td>-0.075269</td>\n",
       "      <td>931.769</td>\n",
       "      <td>8.35500</td>\n",
       "    </tr>\n",
       "    <tr>\n",
       "      <th>2017-12-27 14:29:59.987</th>\n",
       "      <td>2017-12-27 14:29:59.987</td>\n",
       "      <td>-1.0</td>\n",
       "      <td>-0.544041</td>\n",
       "      <td>259</td>\n",
       "      <td>-0.393939</td>\n",
       "      <td>0.696970</td>\n",
       "      <td>-0.053763</td>\n",
       "      <td>914.346</td>\n",
       "      <td>7.97433</td>\n",
       "    </tr>\n",
       "    <tr>\n",
       "      <th>2017-12-27 14:44:59.987</th>\n",
       "      <td>2017-12-27 14:44:59.987</td>\n",
       "      <td>-1.0</td>\n",
       "      <td>-0.564767</td>\n",
       "      <td>263</td>\n",
       "      <td>-0.397980</td>\n",
       "      <td>0.636364</td>\n",
       "      <td>-0.053763</td>\n",
       "      <td>890.809</td>\n",
       "      <td>7.97667</td>\n",
       "    </tr>\n",
       "    <tr>\n",
       "      <th>2017-12-27 14:59:59.987</th>\n",
       "      <td>2017-12-27 14:59:59.987</td>\n",
       "      <td>-1.0</td>\n",
       "      <td>-0.575130</td>\n",
       "      <td>266</td>\n",
       "      <td>-0.406061</td>\n",
       "      <td>0.636364</td>\n",
       "      <td>-0.053763</td>\n",
       "      <td>860.729</td>\n",
       "      <td>7.38900</td>\n",
       "    </tr>\n",
       "    <tr>\n",
       "      <th>2017-12-27 15:14:59.987</th>\n",
       "      <td>2017-12-27 15:14:59.987</td>\n",
       "      <td>-1.0</td>\n",
       "      <td>-0.595855</td>\n",
       "      <td>269</td>\n",
       "      <td>-0.414141</td>\n",
       "      <td>0.636364</td>\n",
       "      <td>-0.032258</td>\n",
       "      <td>824.533</td>\n",
       "      <td>7.27000</td>\n",
       "    </tr>\n",
       "    <tr>\n",
       "      <th>2017-12-27 15:29:59.987</th>\n",
       "      <td>2017-12-27 15:29:59.987</td>\n",
       "      <td>-1.0</td>\n",
       "      <td>-0.606218</td>\n",
       "      <td>270</td>\n",
       "      <td>-0.418182</td>\n",
       "      <td>0.636364</td>\n",
       "      <td>-0.032258</td>\n",
       "      <td>781.725</td>\n",
       "      <td>6.99033</td>\n",
       "    </tr>\n",
       "    <tr>\n",
       "      <th>2017-12-27 15:44:59.987</th>\n",
       "      <td>2017-12-27 15:44:59.987</td>\n",
       "      <td>-1.0</td>\n",
       "      <td>-0.616580</td>\n",
       "      <td>272</td>\n",
       "      <td>-0.426263</td>\n",
       "      <td>0.636364</td>\n",
       "      <td>-0.032258</td>\n",
       "      <td>732.800</td>\n",
       "      <td>6.54500</td>\n",
       "    </tr>\n",
       "    <tr>\n",
       "      <th>2017-12-27 15:59:59.987</th>\n",
       "      <td>2017-12-27 15:59:59.987</td>\n",
       "      <td>-1.0</td>\n",
       "      <td>-0.626943</td>\n",
       "      <td>273</td>\n",
       "      <td>-0.434343</td>\n",
       "      <td>0.636364</td>\n",
       "      <td>-0.032258</td>\n",
       "      <td>684.800</td>\n",
       "      <td>6.07167</td>\n",
       "    </tr>\n",
       "  </tbody>\n",
       "</table>\n",
       "</div>"
      ],
      "text/plain": [
       "                                             时间  辐照度        风速   风向        温度  \\\n",
       "时间                                                                              \n",
       "2017-12-27 12:14:59.987 2017-12-27 12:14:59.987 -1.0 -0.388601  249 -0.369697   \n",
       "2017-12-27 12:29:59.987 2017-12-27 12:29:59.987 -1.0 -0.398964  249 -0.369697   \n",
       "2017-12-27 12:44:59.987 2017-12-27 12:44:59.987 -1.0 -0.409326  248 -0.373737   \n",
       "2017-12-27 12:59:59.987 2017-12-27 12:59:59.987 -1.0 -0.419689  249 -0.377778   \n",
       "2017-12-27 13:14:59.987 2017-12-27 13:14:59.987 -1.0 -0.440415  250 -0.377778   \n",
       "2017-12-27 13:29:59.987 2017-12-27 13:29:59.987 -1.0 -0.461140  251 -0.381818   \n",
       "2017-12-27 13:44:59.987 2017-12-27 13:44:59.987 -1.0 -0.481865  253 -0.385859   \n",
       "2017-12-27 13:59:59.987 2017-12-27 13:59:59.987 -1.0 -0.492228  255 -0.385859   \n",
       "2017-12-27 14:14:59.987 2017-12-27 14:14:59.987 -1.0 -0.523316  256 -0.389899   \n",
       "2017-12-27 14:29:59.987 2017-12-27 14:29:59.987 -1.0 -0.544041  259 -0.393939   \n",
       "2017-12-27 14:44:59.987 2017-12-27 14:44:59.987 -1.0 -0.564767  263 -0.397980   \n",
       "2017-12-27 14:59:59.987 2017-12-27 14:59:59.987 -1.0 -0.575130  266 -0.406061   \n",
       "2017-12-27 15:14:59.987 2017-12-27 15:14:59.987 -1.0 -0.595855  269 -0.414141   \n",
       "2017-12-27 15:29:59.987 2017-12-27 15:29:59.987 -1.0 -0.606218  270 -0.418182   \n",
       "2017-12-27 15:44:59.987 2017-12-27 15:44:59.987 -1.0 -0.616580  272 -0.426263   \n",
       "2017-12-27 15:59:59.987 2017-12-27 15:59:59.987 -1.0 -0.626943  273 -0.434343   \n",
       "\n",
       "                               压强        湿度    实发辐照度     实际功率  \n",
       "时间                                                             \n",
       "2017-12-27 12:14:59.987  0.696970 -0.053763  895.858  8.52133  \n",
       "2017-12-27 12:29:59.987  0.696970 -0.075269  916.125  8.58300  \n",
       "2017-12-27 12:44:59.987  0.696970 -0.075269  944.711  8.82167  \n",
       "2017-12-27 12:59:59.987  0.696970 -0.075269  951.893  8.38267  \n",
       "2017-12-27 13:14:59.987  0.696970 -0.075269  957.511  8.06900  \n",
       "2017-12-27 13:29:59.987  0.696970 -0.075269  958.294  8.73700  \n",
       "2017-12-27 13:44:59.987  0.696970 -0.075269  954.311  8.45333  \n",
       "2017-12-27 13:59:59.987  0.696970 -0.075269  946.773  7.54867  \n",
       "2017-12-27 14:14:59.987  0.696970 -0.075269  931.769  8.35500  \n",
       "2017-12-27 14:29:59.987  0.696970 -0.053763  914.346  7.97433  \n",
       "2017-12-27 14:44:59.987  0.636364 -0.053763  890.809  7.97667  \n",
       "2017-12-27 14:59:59.987  0.636364 -0.053763  860.729  7.38900  \n",
       "2017-12-27 15:14:59.987  0.636364 -0.032258  824.533  7.27000  \n",
       "2017-12-27 15:29:59.987  0.636364 -0.032258  781.725  6.99033  \n",
       "2017-12-27 15:44:59.987  0.636364 -0.032258  732.800  6.54500  \n",
       "2017-12-27 15:59:59.987  0.636364 -0.032258  684.800  6.07167  "
      ]
     },
     "execution_count": 170,
     "metadata": {},
     "output_type": "execute_result"
    }
   ],
   "source": [
    "train1['2017-12-27 12':'2017-12-27 15']"
   ]
  },
  {
   "cell_type": "markdown",
   "metadata": {},
   "source": [
    "## 变量的时间分布情况 "
   ]
  },
  {
   "cell_type": "code",
   "execution_count": 182,
   "metadata": {
    "ExecuteTime": {
     "end_time": "2018-10-26T02:10:07.353965Z",
     "start_time": "2018-10-26T02:10:07.225796Z"
    }
   },
   "outputs": [
    {
     "data": {
      "text/plain": [
       "<matplotlib.axes._subplots.AxesSubplot at 0x7fb2ca7462e8>"
      ]
     },
     "execution_count": 182,
     "metadata": {},
     "output_type": "execute_result"
    },
    {
     "data": {
      "image/png": "[encoded data removed]",
      "text/plain": [
       "<Figure size 432x288 with 1 Axes>"
      ]
     },
     "metadata": {
      "needs_background": "light"
     },
     "output_type": "display_data"
    }
   ],
   "source": [
    "train1['2017-12-22 ']['实际功率'].plot()"
   ]
  },
  {
   "cell_type": "code",
   "execution_count": 181,
   "metadata": {
    "ExecuteTime": {
     "end_time": "2018-10-26T02:10:01.359162Z",
     "start_time": "2018-10-26T02:10:01.234046Z"
    }
   },
   "outputs": [
    {
     "data": {
      "text/plain": [
       "<matplotlib.axes._subplots.AxesSubplot at 0x7fb2ca746ac8>"
      ]
     },
     "execution_count": 181,
     "metadata": {},
     "output_type": "execute_result"
    },
    {
     "data": {
      "image/png": "[encoded data removed]",
      "text/plain": [
       "<Figure size 432x288 with 1 Axes>"
      ]
     },
     "metadata": {
      "needs_background": "light"
     },
     "output_type": "display_data"
    }
   ],
   "source": [
    "train1['2016-12-22']['实际功率'].plot()"
   ]
  },
  {
   "cell_type": "code",
   "execution_count": 176,
   "metadata": {
    "ExecuteTime": {
     "end_time": "2018-10-26T02:06:44.656679Z",
     "start_time": "2018-10-26T02:06:44.486470Z"
    }
   },
   "outputs": [
    {
     "data": {
      "text/plain": [
       "<matplotlib.axes._subplots.AxesSubplot at 0x7fb2ca78fef0>"
      ]
     },
     "execution_count": 176,
     "metadata": {},
     "output_type": "execute_result"
    },
    {
     "data": {
      "image/png": "[encoded data removed]",
      "text/plain": [
       "<Figure size 432x288 with 1 Axes>"
      ]
     },
     "metadata": {
      "needs_background": "light"
     },
     "output_type": "display_data"
    }
   ],
   "source": [
    "train1['2017-10-27 '].iloc[:,1:-1].plot()"
   ]
  },
  {
   "cell_type": "code",
   "execution_count": 174,
   "metadata": {
    "ExecuteTime": {
     "end_time": "2018-10-26T02:03:10.249813Z",
     "start_time": "2018-10-26T02:03:10.115632Z"
    }
   },
   "outputs": [
    {
     "data": {
      "text/plain": [
       "<matplotlib.axes._subplots.AxesSubplot at 0x7fb2ca5ddcf8>"
      ]
     },
     "execution_count": 174,
     "metadata": {},
     "output_type": "execute_result"
    },
    {
     "data": {
      "image/png": "[encoded data removed]",
      "text/plain": [
       "<Figure size 432x288 with 1 Axes>"
      ]
     },
     "metadata": {
      "needs_background": "light"
     },
     "output_type": "display_data"
    }
   ],
   "source": [
    "train1['2017-06-27 ']['实际功率'].plot()"
   ]
  },
  {
   "cell_type": "markdown",
   "metadata": {},
   "source": [
    "## 数据离群点分析"
   ]
  },
  {
   "cell_type": "code",
   "execution_count": null,
   "metadata": {},
   "outputs": [],
   "source": [
    "train1.sort_values()"
   ]
  },
  {
   "cell_type": "markdown",
   "metadata": {},
   "source": [
    "#  数据预处理\n"
   ]
  },
  {
   "cell_type": "markdown",
   "metadata": {
    "ExecuteTime": {
     "end_time": "2018-10-24T07:34:58.756382Z",
     "start_time": "2018-10-24T07:34:58.751776Z"
    }
   },
   "source": [
    "## 时间处理\n",
    "\n",
    "对时间字段进行拆分，拆分为月，日，时，分四个字段\n"
   ]
  },
  {
   "cell_type": "code",
   "execution_count": 3,
   "metadata": {
    "ExecuteTime": {
     "end_time": "2018-10-27T15:26:37.724720Z",
     "start_time": "2018-10-27T15:26:34.376714Z"
    }
   },
   "outputs": [],
   "source": [
    "train1_f = train1\n",
    "train1_f['月']= train1_f['时间'].apply(lambda x:x.month)\n",
    "train1_f['日']= train1_f['时间'].apply(lambda x:x.day)\n",
    "train1_f['小时']= train1_f['时间'].apply(lambda x:x.hour)\n",
    "train1_f['分钟']= train1_f['时间'].apply(lambda x:x.minute)"
   ]
  },
  {
   "cell_type": "code",
   "execution_count": 14,
   "metadata": {},
   "outputs": [],
   "source": [
    "def get_hour(x):\n",
    "    h = int(x[11:13])\n",
    "    m = int(x[14:16])\n",
    "    if m in [14, 29, 44]:\n",
    "        m += 1\n",
    "    if m == 59:\n",
    "        m = 0\n",
    "        h += 1\n",
    "    if h == 24:\n",
    "        h = 0\n",
    "    return h * 60 + m"
   ]
  },
  {
   "cell_type": "code",
   "execution_count": 16,
   "metadata": {},
   "outputs": [
    {
     "data": {
      "text/plain": [
       "30"
      ]
     },
     "execution_count": 16,
     "metadata": {},
     "output_type": "execute_result"
    }
   ],
   "source": [
    "get_hour('2018-02-01 00:29:59.986')"
   ]
  },
  {
   "cell_type": "code",
   "execution_count": 19,
   "metadata": {
    "ExecuteTime": {
     "end_time": "2018-10-26T03:37:10.666811Z",
     "start_time": "2018-10-26T03:37:10.662293Z"
    },
    "scrolled": true
   },
   "outputs": [
    {
     "data": {
      "text/plain": [
       "时间\n",
       "2018-03-02 00:30:00    30\n",
       "2017-08-04 11:30:00    30\n",
       "2016-11-15 03:00:00     0\n",
       "2016-12-22 03:30:00    30\n",
       "2017-02-13 14:30:00    30\n",
       "2016-11-03 11:15:00    15\n",
       "2018-03-23 11:30:00    30\n",
       "2017-08-16 06:15:00    15\n",
       "2016-12-07 11:30:00    30\n",
       "2016-08-18 22:30:00    30\n",
       "Name: 分钟, dtype: int64"
      ]
     },
     "execution_count": 19,
     "metadata": {},
     "output_type": "execute_result"
    }
   ],
   "source": [
    "train1_f['分钟'].sample(10)"
   ]
  },
  {
   "cell_type": "markdown",
   "metadata": {},
   "source": [
    "# 建模"
   ]
  },
  {
   "cell_type": "code",
   "execution_count": 4,
   "metadata": {
    "ExecuteTime": {
     "end_time": "2018-10-27T15:26:39.465723Z",
     "start_time": "2018-10-27T15:26:38.714722Z"
    }
   },
   "outputs": [],
   "source": [
    "from sklearn.preprocessing import StandardScaler\n",
    "from sklearn.model_selection import train_test_split\n",
    "import xgboost as xgb\n",
    "from sklearn.metrics import mean_absolute_error\n",
    "import lightgbm as lgb\n",
    "from sklearn.preprocessing import PolynomialFeatures"
   ]
  },
  {
   "cell_type": "markdown",
   "metadata": {},
   "source": [
    "## 单模型验证"
   ]
  },
  {
   "cell_type": "markdown",
   "metadata": {},
   "source": [
    "先去掉'时间'和''辐照度''，试一试。"
   ]
  },
  {
   "cell_type": "code",
   "execution_count": 13,
   "metadata": {
    "ExecuteTime": {
     "end_time": "2018-10-27T15:32:24.960912Z",
     "start_time": "2018-10-27T15:32:24.920909Z"
    }
   },
   "outputs": [],
   "source": [
    "params_xgb={\n",
    "'booster':'gbtree',\n",
    "'gamma':0.1,  # 用于控制是否后剪枝的参数,越大越保守，一般0.1、0.2这样子。\n",
    "'max_depth':10, # 构建树的深度，越大越容易过拟合\n",
    "'lambda':2,  # 控制模型复杂度的权重值的L2正则化项参数，参数越大，模型越不容易过拟合。\n",
    "'subsample':0.7, # 随机采样训练样本\n",
    "'colsample_bytree':0.7, # 生成树时进行的列采样\n",
    "'min_child_weight':2, \n",
    "# 这个参数默认是 1，是每个叶子里面 h 的和至少是多少，对正负样本不均衡时的 0-1 分类而言\n",
    "#，假设 h 在 0.01 附近，min_child_weight 为 1 意味着叶子节点中最少需要包含 100 个样本。\n",
    "#这个参数非常影响结果，控制叶子节点中二阶导的和的最小值，该参数值越小，越容易 overfitting。 \n",
    "'silent':1 ,#设置成1则没有运行信息输出，最好是设置为0.\n",
    "'eta': 0.01, # 如同学习率\n",
    "'seed':1000,\n",
    "'nthread':-1# cpu 线程数\n",
    "#'eval_metric': 'auc'\n",
    "}\n",
    "num_rounds = 500 # 迭代次数\n",
    "\n",
    "params_lgb = {\n",
    "    \"objective\": \"regression\",\n",
    "    \"metric\": \"mae\",\n",
    "    \"num_leaves\": 30,\n",
    "    \"min_child_samples\": 100,\n",
    "    \"learning_rate\": 0.03,\n",
    "    \"bagging_fraction\": 0.7,\n",
    "    \"feature_fraction\": 0.5,\n",
    "    \"bagging_frequency\": 5,\n",
    "    \"bagging_seed\": 666,\n",
    "    \"verbosity\": -1\n",
    "}"
   ]
  },
  {
   "cell_type": "markdown",
   "metadata": {},
   "source": [
    "### 原始特征 "
   ]
  },
  {
   "cell_type": "code",
   "execution_count": 17,
   "metadata": {
    "ExecuteTime": {
     "end_time": "2018-10-27T15:35:38.015077Z",
     "start_time": "2018-10-27T15:35:03.686813Z"
    }
   },
   "outputs": [
    {
     "data": {
      "text/plain": [
       "1.143421271989845"
      ]
     },
     "execution_count": 17,
     "metadata": {},
     "output_type": "execute_result"
    }
   ],
   "source": [
    "xtrain1,xtest1,ytrain1,ytest1 = train_test_split(train1[[ '辐照度','风速', '风向', '温度', '压强', '湿度']],train1['实际功率'],test_size=0.3, random_state=123)\n",
    "xg_model = xgb.train(params_xgb,xgb.DMatrix(xtrain1,label=ytrain1),num_rounds)\n",
    "mean_absolute_error(xg_model.predict(xgb.DMatrix(xtest1)),ytest1)"
   ]
  },
  {
   "cell_type": "code",
   "execution_count": 16,
   "metadata": {
    "ExecuteTime": {
     "end_time": "2018-10-27T15:34:09.195660Z",
     "start_time": "2018-10-27T15:33:45.589501Z"
    }
   },
   "outputs": [
    {
     "name": "stdout",
     "output_type": "stream",
     "text": [
      "Training until validation scores don't improve for 50 rounds.\n",
      "[100]\tvalid_0's l1: 0.630387\n",
      "[200]\tvalid_0's l1: 0.518589\n",
      "[300]\tvalid_0's l1: 0.495109\n",
      "[400]\tvalid_0's l1: 0.481899\n",
      "[500]\tvalid_0's l1: 0.471886\n",
      "Did not meet early stopping. Best iteration is:\n",
      "[500]\tvalid_0's l1: 0.471886\n"
     ]
    }
   ],
   "source": [
    "lgb_train = lgb.Dataset(xtrain1, label=ytrain1)\n",
    "lgb_eval = lgb.Dataset(xtest1, ytest1, reference=lgb_train)\n",
    "gbm = lgb.train(params_lgb,\n",
    "                lgb_train,\n",
    "                num_boost_round=500,\n",
    "                valid_sets=lgb_eval,\n",
    "                early_stopping_rounds=50,\n",
    "                verbose_eval=100)"
   ]
  },
  {
   "cell_type": "markdown",
   "metadata": {},
   "source": [
    "### 将时间拆分为月日时分特征\n",
    "对特征工程后的数据进行单模型建模。"
   ]
  },
  {
   "cell_type": "code",
   "execution_count": 10,
   "metadata": {
    "ExecuteTime": {
     "end_time": "2018-10-27T15:29:07.976785Z",
     "start_time": "2018-10-27T15:29:03.641609Z"
    }
   },
   "outputs": [
    {
     "data": {
      "text/plain": [
       "1.41141046508818"
      ]
     },
     "execution_count": 10,
     "metadata": {},
     "output_type": "execute_result"
    }
   ],
   "source": [
    "xtrain1,xtest1,ytrain1,ytest1 = train_test_split(train1_f[['辐照度','风速', '风向', '温度', '压强', '湿度','月','日','小时','分钟']],train1['实际功率'],test_size=0.3, random_state=123)\n",
    "xg_model = xgb.train(params_xgb,xgb.DMatrix(xtrain1,label=ytrain1),num_rounds)\n",
    "mean_absolute_error(xg_model.predict(xgb.DMatrix(xtest1)),ytest1)"
   ]
  },
  {
   "cell_type": "markdown",
   "metadata": {},
   "source": [
    "## 线性模型"
   ]
  },
  {
   "cell_type": "code",
   "execution_count": null,
   "metadata": {},
   "outputs": [],
   "source": [
    "xgb.XGBRegressor().train()"
   ]
  }
 ],
 "metadata": {
  "kernelspec": {
   "display_name": "Python 3",
   "language": "python",
   "name": "python3"
  },
  "language_info": {
   "codemirror_mode": {
    "name": "ipython",
    "version": 3
   },
   "file_extension": ".py",
   "mimetype": "text/x-python",
   "name": "python",
   "nbconvert_exporter": "python",
   "pygments_lexer": "ipython3",
   "version": "3.6.4"
  },
  "toc": {
   "nav_menu": {},
   "number_sections": true,
   "sideBar": true,
   "skip_h1_title": false,
   "title_cell": "Table of Contents",
   "title_sidebar": "Contents",
   "toc_cell": false,
   "toc_position": {
    "height": "calc(100% - 180px)",
    "left": "10px",
    "top": "150px",
    "width": "371px"
   },
   "toc_section_display": true,
   "toc_window_display": true
  },
  "varInspector": {
   "cols": {
    "lenName": 16,
    "lenType": 16,
    "lenVar": 40
   },
   "kernels_config": {
    "python": {
     "delete_cmd_postfix": "",
     "delete_cmd_prefix": "del ",
     "library": "var_list.py",
     "varRefreshCmd": "print(var_dic_list())"
    },
    "r": {
     "delete_cmd_postfix": ") ",
     "delete_cmd_prefix": "rm(",
     "library": "var_list.r",
     "varRefreshCmd": "cat(var_dic_list()) "
    }
   },
   "types_to_exclude": [
    "module",
    "function",
    "builtin_function_or_method",
    "instance",
    "_Feature"
   ],
   "window_display": false
  }
 },
 "nbformat": 4,
 "nbformat_minor": 2
}
